{
 "cells": [
  {
   "cell_type": "markdown",
   "metadata": {},
   "source": [
    "# Getting started"
   ]
  },
  {
   "cell_type": "markdown",
   "metadata": {},
   "source": [
    "## Setting up\n",
    "\n",
    "### With pip\n",
    "\n",
    "pymdea is [available on PyPI](https://pypi.org/project/pymdea) and can be installed with:\n",
    "```\n",
    "pip install pymdea\n",
    "```\n",
    "\n",
    "### With uv\n",
    "\n",
    "pymdea can also be installed from PyPI with [uv](https://docs.astral.sh/uv):\n",
    "```\n",
    "uv add pymdea\n",
    "```\n",
    "\n",
    "### With uv from source\n",
    "\n",
    "#### Install uv\n",
    "\n",
    "Install the [uv python project manager](https://docs.astral.sh/uv), following the instructions on uv's [official installation guide](https://docs.astral.sh/uv/getting-started/installation).\n",
    "\n",
    "#### Clone pymdea\n",
    "\n",
    "Using a command line terminal, clone the pymdea repository to a location on your file system:\n",
    "```\n",
    "git clone https://github.com/garland-culbreth/pymdea.git /example/file/path/pymdea.git\n",
    "```\n",
    "\n",
    "#### Create environment\n",
    "\n",
    "Navigate to the cloned repository directory:\n",
    "```\n",
    "cd /example/file/path/pymdea.git\n",
    "```\n",
    "and run the uv command:\n",
    "```\n",
    "uv sync\n",
    "```\n",
    "This will create a python virtual environment in a subdirectory called `.../pymdea.git/.venv` which contains a python executable and all packages necessary to run pymdea. The command will display text output in the command line, which should look like this:\n",
    "```\n",
    "❯ uv sync\n",
    "Using Python 3.12.5\n",
    "Creating virtualenv at: .venv\n",
    "Resolved 107 packages in 1.01s\n",
    "   Built pymdea @ file:///D:/repos/pymdea.git\n",
    "Prepared 101 packages in 819ms\n",
    "░░░░░░░░░░░░░░░░░░░░ [0/101] Installing\n",
    "Installed 101 packages in 5.05s\n",
    " + asttokens==2.4.1\n",
    " + attrs==24.2.0\n",
    " + babel==2.16.0\n",
    " ... (all 101 packages uv installs will be listed out)\n",
    "```\n",
    "Note: the file path, `D:/repos/pymdea.git`, is the directory on my own file system my clone of pymdea is located.\n",
    "\n",
    "#### Verify integrity\n",
    "\n",
    "To confirm the files work properly, run the uv command:\n",
    "```\n",
    "uv run pytest\n",
    "```\n",
    "This runs the pymdea test suite from `test_core.py` and display a summary of the results in the command line output.\n",
    "\n",
    "With these steps complete, you're now ready to import the pymdea.core and pymdea.plot modules and work with them!"
   ]
  },
  {
   "cell_type": "markdown",
   "metadata": {},
   "source": [
    "## Loading pymdea\n",
    "\n",
    "Import the pymdea modules as you would any other Python package."
   ]
  },
  {
   "cell_type": "code",
   "execution_count": 1,
   "metadata": {},
   "outputs": [],
   "source": [
    "from pymdea.core import DeaEngine, DeaLoader\n",
    "from pymdea.plot import DeaPlotter"
   ]
  },
  {
   "cell_type": "markdown",
   "metadata": {},
   "source": [
    "## Loading data\n",
    "\n",
    "The `pymdea.core` module provides a `DeaLoader` class with helper methods for wrangling data. It also has a `make_sample_data` method for generating sample data for testing purposes, which is what this notebook will use to illustrate an example workflow."
   ]
  },
  {
   "cell_type": "code",
   "execution_count": 2,
   "metadata": {},
   "outputs": [
    {
     "data": {
      "text/plain": [
       "<pymdea.core.DeaLoader at 0x23c97bb63f0>"
      ]
     },
     "execution_count": 2,
     "metadata": {},
     "output_type": "execute_result"
    }
   ],
   "source": [
    "dea_loader = DeaLoader()\n",
    "dea_loader.make_sample_data(30000)"
   ]
  },
  {
   "cell_type": "markdown",
   "metadata": {},
   "source": [
    "## Analyzing data\n",
    "\n",
    "The `DeaEngine` class from `pymdea.core` contains the methods for analyzing data once it's been loaded. Pass `DeaLoader` to `DeaEngine` to pass the data from the loader to the engine, then invoke the `analyze` method to run an analysis."
   ]
  },
  {
   "cell_type": "code",
   "execution_count": 3,
   "metadata": {},
   "outputs": [
    {
     "data": {
      "application/vnd.jupyter.widget-view+json": {
       "model_id": "43c6e52a6eed4d189ea395a938ea3f98",
       "version_major": 2,
       "version_minor": 0
      },
      "text/plain": [
       "Output()"
      ]
     },
     "metadata": {},
     "output_type": "display_data"
    },
    {
     "data": {
      "text/html": [
       "<pre style=\"white-space:pre;overflow-x:auto;line-height:normal;font-family:Menlo,'DejaVu Sans Mono',consolas,'Courier New',monospace\"></pre>\n"
      ],
      "text/plain": []
     },
     "metadata": {},
     "output_type": "display_data"
    },
    {
     "name": "stdout",
     "output_type": "stream",
     "text": [
      "shape: (1, 3)\n",
      "┌──────────┬────────────┬────────────┐\n",
      "│ δ        ┆ μ (rule 1) ┆ μ (rule 2) │\n",
      "│ ---      ┆ ---        ┆ ---        │\n",
      "│ f64      ┆ f64        ┆ f64        │\n",
      "╞══════════╪════════════╪════════════╡\n",
      "│ 0.507809 ┆ 1.507809   ┆ 2.969245   │\n",
      "└──────────┴────────────┴────────────┘\n"
     ]
    }
   ],
   "source": [
    "dea_engine = DeaEngine(dea_loader)\n",
    "dea_engine.analyze_with_stripes(fit_start=0.1, fit_stop=0.9, n_stripes=60)"
   ]
  },
  {
   "cell_type": "markdown",
   "metadata": {},
   "source": [
    "## Viewing results\n",
    "\n",
    "The `DeaPlotter` class from `pymdea.plot` contains methods for viewing the results and producing plots. Pass `DeaEngine` to `DeaPlotter` to pass the results from the engine to the plotter, then invoke the plotting methods to view different summaries of the results."
   ]
  },
  {
   "cell_type": "code",
   "execution_count": 4,
   "metadata": {},
   "outputs": [],
   "source": [
    "dea_plot = DeaPlotter(dea_engine)"
   ]
  },
  {
   "cell_type": "markdown",
   "metadata": {},
   "source": [
    "The most illustrative figure is plotting the Shannon entropy against the log of the window lengths, S(L) vs ln(L):"
   ]
  },
  {
   "cell_type": "code",
   "execution_count": 5,
   "metadata": {},
   "outputs": [
    {
     "data": {
      "image/png": "[encoded data removed]",
      "text/plain": [
       "<Figure size 400x300 with 1 Axes>"
      ]
     },
     "metadata": {},
     "output_type": "display_data"
    }
   ],
   "source": [
    "dea_plot.s_vs_l()"
   ]
  },
  {
   "cell_type": "markdown",
   "metadata": {},
   "source": [
    "It's also useful to quickly compare the results of the different rules for computing the `mu` parameter:"
   ]
  },
  {
   "cell_type": "code",
   "execution_count": 6,
   "metadata": {},
   "outputs": [
    {
     "data": {
      "image/png": "[encoded data removed]",
      "text/plain": [
       "<Figure size 400x300 with 1 Axes>"
      ]
     },
     "metadata": {},
     "output_type": "display_data"
    }
   ],
   "source": [
    "dea_plot.mu_candidates()"
   ]
  }
 ],
 "metadata": {
  "kernelspec": {
   "display_name": ".venv",
   "language": "python",
   "name": "python3"
  },
  "language_info": {
   "codemirror_mode": {
    "name": "ipython",
    "version": 3
   },
   "file_extension": ".py",
   "mimetype": "text/x-python",
   "name": "python",
   "nbconvert_exporter": "python",
   "pygments_lexer": "ipython3",
   "version": "3.12.5"
  }
 },
 "nbformat": 4,
 "nbformat_minor": 2
}
